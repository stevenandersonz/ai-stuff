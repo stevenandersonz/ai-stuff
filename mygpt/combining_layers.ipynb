{
 "cells": [
  {
   "cell_type": "code",
   "execution_count": 45,
   "metadata": {},
   "outputs": [],
   "source": [
    "import torch\n",
    "import torch.nn as nn\n",
    "import torch.nn.functional as F\n",
    "\n",
    "torch.manual_seed(42)\n",
    "\n",
    "n_embd = 16\n",
    "\n",
    "query = nn.Linear(n_embd, n_embd, bias=False)\n",
    "keys = nn.Linear(n_embd, n_embd, bias=False)\n",
    "value = nn.Linear(n_embd, n_embd, bias=False)\n",
    "\n",
    "toks = torch.randn(1, n_embd)\n",
    "\n",
    "q = query(toks)\n",
    "k = keys(toks)\n",
    "v = value(toks)\n",
    "\n",
    "assert q.shape == k.shape == v.shape == (1, n_embd)\n"
   ]
  },
  {
   "cell_type": "code",
   "execution_count": 46,
   "metadata": {},
   "outputs": [
    {
     "name": "stdout",
     "output_type": "stream",
     "text": [
      "torch.Size([1, 8, 16]) torch.Size([1, 8, 16]) torch.Size([1, 8, 16])\n",
      "torch.Size([1, 8, 16]) torch.Size([1, 8, 16]) torch.Size([1, 8, 16])\n"
     ]
    }
   ],
   "source": [
    "torch.manual_seed(42)\n",
    "\n",
    "n_embd = 16\n",
    "block_size=4\n",
    "\n",
    "qkv = nn.Linear(n_embd, n_embd*3, bias=False)\n",
    "\n",
    "toks = torch.randn(1, 8, n_embd)\n",
    "B,T,C=toks.shape\n",
    "assert toks.shape == (B, T, C)\n",
    "proj = qkv(toks) # (B, T, 3*H)\n",
    "assert proj.shape == (B, T, 3*n_embd)\n",
    "q2,k2,v2 = proj.chunk(3, dim=-1)\n",
    "q3,k3,v3 = proj.split(n_embd, dim=-1)\n",
    "print(q2.shape, k2.shape, v2.shape)\n",
    "print(q3.shape, k3.shape, v3.shape)\n"
   ]
  },
  {
   "cell_type": "code",
   "execution_count": 47,
   "metadata": {},
   "outputs": [
    {
     "data": {
      "text/plain": [
       "(True, True, True)"
      ]
     },
     "execution_count": 47,
     "metadata": {},
     "output_type": "execute_result"
    }
   ],
   "source": [
    "torch.allclose(q3, q2), torch.allclose(k3, k2), torch.allclose(v3, v2)"
   ]
  },
  {
   "cell_type": "code",
   "execution_count": 27,
   "metadata": {},
   "outputs": [
    {
     "name": "stdout",
     "output_type": "stream",
     "text": [
      "torch.Size([1, 3])\n",
      "torch.Size([4, 3])\n",
      "torch.Size([12, 3])\n"
     ]
    }
   ],
   "source": [
    "torch.manual_seed(42)\n",
    "x = torch.randint(1,10, (1,3))\n",
    "w = torch.randint(1,10, (4,3))\n",
    "w2 = torch.randint(1,10, (4*3,3))\n",
    "print(x.shape)\n",
    "print(w.shape)\n",
    "print(w2.shape)"
   ]
  },
  {
   "cell_type": "code",
   "execution_count": 29,
   "metadata": {},
   "outputs": [
    {
     "name": "stdout",
     "output_type": "stream",
     "text": [
      "tensor([[7, 6, 8]])\n",
      "tensor([[5, 3, 5],\n",
      "        [4, 5, 5],\n",
      "        [9, 2, 6],\n",
      "        [9, 5, 3],\n",
      "        [1, 2, 2],\n",
      "        [4, 4, 8],\n",
      "        [8, 9, 8],\n",
      "        [3, 6, 2],\n",
      "        [4, 3, 4],\n",
      "        [2, 4, 4],\n",
      "        [9, 6, 5],\n",
      "        [1, 3, 4]])\n"
     ]
    }
   ],
   "source": [
    "print(x)\n",
    "print(w2)"
   ]
  },
  {
   "cell_type": "code",
   "execution_count": 33,
   "metadata": {},
   "outputs": [
    {
     "data": {
      "text/plain": [
       "torch.Size([1, 12])"
      ]
     },
     "execution_count": 33,
     "metadata": {},
     "output_type": "execute_result"
    }
   ],
   "source": [
    "(x@w2.T).shape\n"
   ]
  },
  {
   "cell_type": "code",
   "execution_count": null,
   "metadata": {},
   "outputs": [],
   "source": []
  }
 ],
 "metadata": {
  "kernelspec": {
   "display_name": "nanogpt",
   "language": "python",
   "name": "python3"
  },
  "language_info": {
   "codemirror_mode": {
    "name": "ipython",
    "version": 3
   },
   "file_extension": ".py",
   "mimetype": "text/x-python",
   "name": "python",
   "nbconvert_exporter": "python",
   "pygments_lexer": "ipython3",
   "version": "3.11.0"
  },
  "orig_nbformat": 4
 },
 "nbformat": 4,
 "nbformat_minor": 2
}
